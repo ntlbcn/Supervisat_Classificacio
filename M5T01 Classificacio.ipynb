{
 "cells": [
  {
   "cell_type": "markdown",
   "id": "d2638a06",
   "metadata": {},
   "source": [
    "# M5 T01: Algoritmes d'aprenentage supervisat: Classificació\n",
    "\n",
    "Anem a practicar i a familiaritzar-nos amb algoritmes de classificació"
   ]
  },
  {
   "cell_type": "markdown",
   "id": "f56fc95a",
   "metadata": {},
   "source": [
    "## Nivell 1 - Exercici 1\n",
    "Crea almenys tres models de classificació diferents per intentar predir el millor possible l’endarreriment dels vols (ArrDelay) de DelayedFlights.csv. Considera si el vol ha arribat tard o no (ArrDelay > 0)."
   ]
  },
  {
   "cell_type": "markdown",
   "id": "3479750a",
   "metadata": {},
   "source": [
    "_Llegim les dades que estan en format CSV, **DelayedFlights.csv**, per això necessitem carregar la llibreria **pandas**. Aprofitarem per a carregar altres llibreries que necessitarem més endevant_"
   ]
  },
  {
   "cell_type": "code",
   "execution_count": 73,
   "id": "efa096dc",
   "metadata": {},
   "outputs": [
    {
     "name": "stderr",
     "output_type": "stream",
     "text": [
      "C:\\Users\\Nuria\\anaconda3\\lib\\site-packages\\numpy\\lib\\arraysetops.py:583: FutureWarning: elementwise comparison failed; returning scalar instead, but in the future will perform elementwise comparison\n",
      "  mask |= (ar1 == a)\n"
     ]
    }
   ],
   "source": [
    "import matplotlib.pyplot as plt\n",
    "import numpy as np\n",
    "import pandas as pd\n",
    "import statsmodels.api as sm \n",
    "\n",
    "from sklearn.preprocessing import StandardScaler\n",
    "from sklearn.tree import DecisionTreeClassifier\n",
    "from sklearn.linear_model import LogisticRegression\n",
    "from sklearn.neighbors import KNeighborsClassifier\n",
    "from sklearn.model_selection import train_test_split\n",
    "from sklearn import metrics\n",
    "from sklearn.metrics import *\n",
    "\n",
    "df = pd.read_csv('./../data/DelayedFlights.csv', index_col=0)"
   ]
  },
  {
   "cell_type": "code",
   "execution_count": 74,
   "id": "8a87afb6",
   "metadata": {},
   "outputs": [
    {
     "data": {
      "text/plain": [
       "(1936758, 29)"
      ]
     },
     "execution_count": 74,
     "metadata": {},
     "output_type": "execute_result"
    }
   ],
   "source": [
    "df.shape"
   ]
  },
  {
   "cell_type": "code",
   "execution_count": 75,
   "id": "c180a507",
   "metadata": {},
   "outputs": [
    {
     "data": {
      "text/plain": [
       "Index(['Year', 'Month', 'DayofMonth', 'DayOfWeek', 'DepTime', 'CRSDepTime',\n",
       "       'ArrTime', 'CRSArrTime', 'UniqueCarrier', 'FlightNum', 'TailNum',\n",
       "       'ActualElapsedTime', 'CRSElapsedTime', 'AirTime', 'ArrDelay',\n",
       "       'DepDelay', 'Origin', 'Dest', 'Distance', 'TaxiIn', 'TaxiOut',\n",
       "       'Cancelled', 'CancellationCode', 'Diverted', 'CarrierDelay',\n",
       "       'WeatherDelay', 'NASDelay', 'SecurityDelay', 'LateAircraftDelay'],\n",
       "      dtype='object')"
      ]
     },
     "execution_count": 75,
     "metadata": {},
     "output_type": "execute_result"
    }
   ],
   "source": [
    "df.columns"
   ]
  },
  {
   "cell_type": "markdown",
   "id": "719a60dd",
   "metadata": {},
   "source": [
    "_Com que el que volem és predir els endarreriments dels vols, crec que hem d'excloure del nostre conjunt de dades aquells vols que han estat cancel·lats i derivats_"
   ]
  },
  {
   "cell_type": "code",
   "execution_count": 76,
   "id": "aac377b0",
   "metadata": {},
   "outputs": [
    {
     "data": {
      "text/plain": [
       "(1928371, 29)"
      ]
     },
     "execution_count": 76,
     "metadata": {},
     "output_type": "execute_result"
    }
   ],
   "source": [
    "df2 = df.loc[df.loc[:,'Cancelled'] == 0]\n",
    "df2 = df2.loc[df2.loc[:,'Diverted'] == 0]\n",
    "df2.shape"
   ]
  },
  {
   "cell_type": "markdown",
   "id": "f3753ed8",
   "metadata": {},
   "source": [
    "_Creem variable **FlightDelay**, que ens indicarà si el vol ha arribat tard o no_"
   ]
  },
  {
   "cell_type": "code",
   "execution_count": 77,
   "id": "9359170f",
   "metadata": {},
   "outputs": [],
   "source": [
    "df2['FlightDelay'] = (df2['ArrDelay'] > 0).astype(int)"
   ]
  },
  {
   "cell_type": "code",
   "execution_count": 78,
   "id": "edceb8ef",
   "metadata": {},
   "outputs": [
    {
     "data": {
      "text/html": [
       "<div>\n",
       "<style scoped>\n",
       "    .dataframe tbody tr th:only-of-type {\n",
       "        vertical-align: middle;\n",
       "    }\n",
       "\n",
       "    .dataframe tbody tr th {\n",
       "        vertical-align: top;\n",
       "    }\n",
       "\n",
       "    .dataframe thead th {\n",
       "        text-align: right;\n",
       "    }\n",
       "</style>\n",
       "<table border=\"1\" class=\"dataframe\">\n",
       "  <thead>\n",
       "    <tr style=\"text-align: right;\">\n",
       "      <th></th>\n",
       "      <th>Year</th>\n",
       "      <th>Month</th>\n",
       "      <th>DayofMonth</th>\n",
       "      <th>DayOfWeek</th>\n",
       "      <th>DepTime</th>\n",
       "      <th>CRSDepTime</th>\n",
       "      <th>ArrTime</th>\n",
       "      <th>CRSArrTime</th>\n",
       "      <th>UniqueCarrier</th>\n",
       "      <th>FlightNum</th>\n",
       "      <th>...</th>\n",
       "      <th>TaxiOut</th>\n",
       "      <th>Cancelled</th>\n",
       "      <th>CancellationCode</th>\n",
       "      <th>Diverted</th>\n",
       "      <th>CarrierDelay</th>\n",
       "      <th>WeatherDelay</th>\n",
       "      <th>NASDelay</th>\n",
       "      <th>SecurityDelay</th>\n",
       "      <th>LateAircraftDelay</th>\n",
       "      <th>FlightDelay</th>\n",
       "    </tr>\n",
       "  </thead>\n",
       "  <tbody>\n",
       "    <tr>\n",
       "      <th>0</th>\n",
       "      <td>2008</td>\n",
       "      <td>1</td>\n",
       "      <td>3</td>\n",
       "      <td>4</td>\n",
       "      <td>2003.0</td>\n",
       "      <td>1955</td>\n",
       "      <td>2211.0</td>\n",
       "      <td>2225</td>\n",
       "      <td>WN</td>\n",
       "      <td>335</td>\n",
       "      <td>...</td>\n",
       "      <td>8.0</td>\n",
       "      <td>0</td>\n",
       "      <td>N</td>\n",
       "      <td>0</td>\n",
       "      <td>NaN</td>\n",
       "      <td>NaN</td>\n",
       "      <td>NaN</td>\n",
       "      <td>NaN</td>\n",
       "      <td>NaN</td>\n",
       "      <td>0</td>\n",
       "    </tr>\n",
       "    <tr>\n",
       "      <th>1</th>\n",
       "      <td>2008</td>\n",
       "      <td>1</td>\n",
       "      <td>3</td>\n",
       "      <td>4</td>\n",
       "      <td>754.0</td>\n",
       "      <td>735</td>\n",
       "      <td>1002.0</td>\n",
       "      <td>1000</td>\n",
       "      <td>WN</td>\n",
       "      <td>3231</td>\n",
       "      <td>...</td>\n",
       "      <td>10.0</td>\n",
       "      <td>0</td>\n",
       "      <td>N</td>\n",
       "      <td>0</td>\n",
       "      <td>NaN</td>\n",
       "      <td>NaN</td>\n",
       "      <td>NaN</td>\n",
       "      <td>NaN</td>\n",
       "      <td>NaN</td>\n",
       "      <td>1</td>\n",
       "    </tr>\n",
       "    <tr>\n",
       "      <th>2</th>\n",
       "      <td>2008</td>\n",
       "      <td>1</td>\n",
       "      <td>3</td>\n",
       "      <td>4</td>\n",
       "      <td>628.0</td>\n",
       "      <td>620</td>\n",
       "      <td>804.0</td>\n",
       "      <td>750</td>\n",
       "      <td>WN</td>\n",
       "      <td>448</td>\n",
       "      <td>...</td>\n",
       "      <td>17.0</td>\n",
       "      <td>0</td>\n",
       "      <td>N</td>\n",
       "      <td>0</td>\n",
       "      <td>NaN</td>\n",
       "      <td>NaN</td>\n",
       "      <td>NaN</td>\n",
       "      <td>NaN</td>\n",
       "      <td>NaN</td>\n",
       "      <td>1</td>\n",
       "    </tr>\n",
       "    <tr>\n",
       "      <th>4</th>\n",
       "      <td>2008</td>\n",
       "      <td>1</td>\n",
       "      <td>3</td>\n",
       "      <td>4</td>\n",
       "      <td>1829.0</td>\n",
       "      <td>1755</td>\n",
       "      <td>1959.0</td>\n",
       "      <td>1925</td>\n",
       "      <td>WN</td>\n",
       "      <td>3920</td>\n",
       "      <td>...</td>\n",
       "      <td>10.0</td>\n",
       "      <td>0</td>\n",
       "      <td>N</td>\n",
       "      <td>0</td>\n",
       "      <td>2.0</td>\n",
       "      <td>0.0</td>\n",
       "      <td>0.0</td>\n",
       "      <td>0.0</td>\n",
       "      <td>32.0</td>\n",
       "      <td>1</td>\n",
       "    </tr>\n",
       "    <tr>\n",
       "      <th>5</th>\n",
       "      <td>2008</td>\n",
       "      <td>1</td>\n",
       "      <td>3</td>\n",
       "      <td>4</td>\n",
       "      <td>1940.0</td>\n",
       "      <td>1915</td>\n",
       "      <td>2121.0</td>\n",
       "      <td>2110</td>\n",
       "      <td>WN</td>\n",
       "      <td>378</td>\n",
       "      <td>...</td>\n",
       "      <td>10.0</td>\n",
       "      <td>0</td>\n",
       "      <td>N</td>\n",
       "      <td>0</td>\n",
       "      <td>NaN</td>\n",
       "      <td>NaN</td>\n",
       "      <td>NaN</td>\n",
       "      <td>NaN</td>\n",
       "      <td>NaN</td>\n",
       "      <td>1</td>\n",
       "    </tr>\n",
       "  </tbody>\n",
       "</table>\n",
       "<p>5 rows × 30 columns</p>\n",
       "</div>"
      ],
      "text/plain": [
       "   Year  Month  DayofMonth  DayOfWeek  DepTime  CRSDepTime  ArrTime  \\\n",
       "0  2008      1           3          4   2003.0        1955   2211.0   \n",
       "1  2008      1           3          4    754.0         735   1002.0   \n",
       "2  2008      1           3          4    628.0         620    804.0   \n",
       "4  2008      1           3          4   1829.0        1755   1959.0   \n",
       "5  2008      1           3          4   1940.0        1915   2121.0   \n",
       "\n",
       "   CRSArrTime UniqueCarrier  FlightNum  ... TaxiOut  Cancelled  \\\n",
       "0        2225            WN        335  ...     8.0          0   \n",
       "1        1000            WN       3231  ...    10.0          0   \n",
       "2         750            WN        448  ...    17.0          0   \n",
       "4        1925            WN       3920  ...    10.0          0   \n",
       "5        2110            WN        378  ...    10.0          0   \n",
       "\n",
       "   CancellationCode  Diverted  CarrierDelay  WeatherDelay NASDelay  \\\n",
       "0                 N         0           NaN           NaN      NaN   \n",
       "1                 N         0           NaN           NaN      NaN   \n",
       "2                 N         0           NaN           NaN      NaN   \n",
       "4                 N         0           2.0           0.0      0.0   \n",
       "5                 N         0           NaN           NaN      NaN   \n",
       "\n",
       "  SecurityDelay  LateAircraftDelay  FlightDelay  \n",
       "0           NaN                NaN            0  \n",
       "1           NaN                NaN            1  \n",
       "2           NaN                NaN            1  \n",
       "4           0.0               32.0            1  \n",
       "5           NaN                NaN            1  \n",
       "\n",
       "[5 rows x 30 columns]"
      ]
     },
     "execution_count": 78,
     "metadata": {},
     "output_type": "execute_result"
    }
   ],
   "source": [
    "df2.head()"
   ]
  },
  {
   "cell_type": "markdown",
   "id": "f56de61c",
   "metadata": {},
   "source": [
    "_Al conjunt de dades a part de la variable **ArrDelay** hi ha un seguit de variables que indiquen els minuts de retràs per motiu. Si bé aquest només s'especifica quan el retràs global és superior als 15 minuts. Per tant, si sumem els minuts d'aquestes cinc variables tindrem una variable que estarà molt correlacionada amb la variable **ArrDelay** i que podriem utilitzar per a classificar davant l'absència d'altres variables. Crearem la variable en minuts (**SumDelay**) i com a dummy (**Delay15**)_"
   ]
  },
  {
   "cell_type": "code",
   "execution_count": 79,
   "id": "07015105",
   "metadata": {},
   "outputs": [],
   "source": [
    "df2['SumDelay'] = df2['CarrierDelay'] + df2['WeatherDelay'] + df2['NASDelay'] + df2['SecurityDelay'] + df2['LateAircraftDelay']"
   ]
  },
  {
   "cell_type": "code",
   "execution_count": 80,
   "id": "e0fba268",
   "metadata": {},
   "outputs": [],
   "source": [
    "df2['SumDelay'] = df2['SumDelay'].replace(np.nan, 0)"
   ]
  },
  {
   "cell_type": "code",
   "execution_count": 81,
   "id": "5b397aa5",
   "metadata": {},
   "outputs": [],
   "source": [
    "df2['Delay15'] = (df2['SumDelay'] > 0).astype(int)"
   ]
  },
  {
   "cell_type": "markdown",
   "id": "f558d71e",
   "metadata": {},
   "source": [
    "_La companyia WN era quina presentava més endarreriments, creem variable dummy que ens indiqui si la companyia és WN o no (vist en exercicis anteriors)_"
   ]
  },
  {
   "cell_type": "code",
   "execution_count": 82,
   "id": "a5418e17",
   "metadata": {},
   "outputs": [],
   "source": [
    "df2['CarrierWN'] = (df2['UniqueCarrier'] == 'WN').astype(int)"
   ]
  },
  {
   "cell_type": "markdown",
   "id": "828e304f",
   "metadata": {},
   "source": [
    "_Eliminem del nostre conjunt de dades aquelles variables que segur no farem servir com l'any (tots són del mateix any) o els identificadors dels vols, les variables **Cancelled** i **Diverted** que també són redundants al ser les variables que hem utilitzat per filtrar_"
   ]
  },
  {
   "cell_type": "code",
   "execution_count": 83,
   "id": "127f6e48",
   "metadata": {},
   "outputs": [
    {
     "data": {
      "text/plain": [
       "(1928371, 27)"
      ]
     },
     "execution_count": 83,
     "metadata": {},
     "output_type": "execute_result"
    }
   ],
   "source": [
    "df_ok = df2.drop(['Year','FlightNum','TailNum','Cancelled','CancellationCode','Diverted'], axis = 1)\n",
    "df_ok.shape"
   ]
  },
  {
   "cell_type": "markdown",
   "id": "caa30609",
   "metadata": {},
   "source": [
    "_La variable **FlightDelay** que serà la nostra variable resposta (y), la resta seran variables explicatives o independents(X). Creem els conjunts de dades corresponents._"
   ]
  },
  {
   "cell_type": "code",
   "execution_count": 84,
   "id": "7041b6aa",
   "metadata": {},
   "outputs": [
    {
     "name": "stdout",
     "output_type": "stream",
     "text": [
      "(1928371, 26) (1928371,)\n"
     ]
    }
   ],
   "source": [
    "X, y = df_ok.loc[:, df_ok.columns != 'FlightDelay'], df_ok.loc[:,'FlightDelay']\n",
    "print(X.shape, y.shape)"
   ]
  },
  {
   "cell_type": "markdown",
   "id": "725f7e4b",
   "metadata": {},
   "source": [
    "- Model 1 (DecisionTreeClassifier)\n",
    "\n",
    "_Creem el subconjunt de dades X amb les variables explicatives seleccionades, variables que ja haviem utilitzat en altres models anteriorment ajustats per la seva correlació amb els retrasos_"
   ]
  },
  {
   "cell_type": "code",
   "execution_count": 85,
   "id": "8af3b3e1",
   "metadata": {},
   "outputs": [],
   "source": [
    "X1 = X[['DepDelay', 'TaxiOut']]"
   ]
  },
  {
   "cell_type": "markdown",
   "id": "2a024ffb",
   "metadata": {},
   "source": [
    "_Creem arbre de decissió amb Scikit-learn_"
   ]
  },
  {
   "cell_type": "code",
   "execution_count": 86,
   "id": "8cef95ab",
   "metadata": {},
   "outputs": [],
   "source": [
    "clf1 = DecisionTreeClassifier()\n",
    "clf1 = clf1.fit(X1,y)"
   ]
  },
  {
   "cell_type": "markdown",
   "id": "7ef972ec",
   "metadata": {},
   "source": [
    "_(No m'ha sigut possible graficar l'arbre de decissió creat, l'exemple mostrat no s'executa)_"
   ]
  },
  {
   "cell_type": "markdown",
   "id": "7ad27e33",
   "metadata": {},
   "source": [
    "- Model 2 (LogisticRegression)\n",
    "\n",
    "_Creem el subconjunt de dades X amb les variables explicatives seleccionades, variables que ja haviem utilitzat en altres models anteriorment_"
   ]
  },
  {
   "cell_type": "code",
   "execution_count": 87,
   "id": "e35715f2",
   "metadata": {},
   "outputs": [],
   "source": [
    "X2 = X[['DepDelay','TaxiOut','Distance']]"
   ]
  },
  {
   "cell_type": "markdown",
   "id": "5db0353d",
   "metadata": {},
   "source": [
    "_Ajustem el model de regressió logística_"
   ]
  },
  {
   "cell_type": "code",
   "execution_count": 88,
   "id": "d296b4d4",
   "metadata": {},
   "outputs": [
    {
     "data": {
      "text/plain": [
       "LogisticRegression()"
      ]
     },
     "execution_count": 88,
     "metadata": {},
     "output_type": "execute_result"
    }
   ],
   "source": [
    "logreg2 = LogisticRegression()\n",
    "logreg2.fit(X2, y)"
   ]
  },
  {
   "cell_type": "markdown",
   "id": "a859da85",
   "metadata": {},
   "source": [
    "- Model 3 (K-Nearest Neighbors)"
   ]
  },
  {
   "cell_type": "markdown",
   "id": "7303e2e1",
   "metadata": {},
   "source": [
    "_Creem el subconjunt de dades X amb les variables explicatives seleccionades, variables que ja haviem utilitzat en altres models anteriorment ajustats per la seva correlació amb els retrasos_\n",
    "\n",
    "_Per evitar problemes amb l'escala de les dues variables, les estandaritzem_ "
   ]
  },
  {
   "cell_type": "code",
   "execution_count": 89,
   "id": "ae9b7eb4",
   "metadata": {},
   "outputs": [],
   "source": [
    "X3 = X[['DepDelay', 'TaxiOut']]\n",
    "\n",
    "scaler = StandardScaler()\n",
    "scaler.fit(X3)\n",
    "\n",
    "X3 = scaler.transform(X3)"
   ]
  },
  {
   "cell_type": "markdown",
   "id": "2e6f544a",
   "metadata": {},
   "source": [
    "_Ajustem el model K-Nearest Neighbors_"
   ]
  },
  {
   "cell_type": "code",
   "execution_count": 90,
   "id": "821a7793",
   "metadata": {},
   "outputs": [
    {
     "data": {
      "text/plain": [
       "KNeighborsClassifier()"
      ]
     },
     "execution_count": 90,
     "metadata": {},
     "output_type": "execute_result"
    }
   ],
   "source": [
    "knn3 = KNeighborsClassifier(n_neighbors=5)\n",
    "knn3.fit(X3, y)"
   ]
  },
  {
   "cell_type": "markdown",
   "id": "0526fc02",
   "metadata": {},
   "source": [
    "## Nivell 1 - Exercici 2\n",
    "Compara els models de classificació utilitzant la precisió (accuracy), una matriu de confiança i d’altres mètriques més avançades."
   ]
  },
  {
   "cell_type": "markdown",
   "id": "192e2998",
   "metadata": {},
   "source": [
    "- Model 1 (DecisionTreeClassifier)"
   ]
  },
  {
   "cell_type": "markdown",
   "id": "6c0b52d6",
   "metadata": {},
   "source": [
    "_Primer de tot, calculem els valors predits_"
   ]
  },
  {
   "cell_type": "code",
   "execution_count": 91,
   "id": "2dba9a0c",
   "metadata": {},
   "outputs": [],
   "source": [
    "y_clf1_pred = clf1.predict(X1)"
   ]
  },
  {
   "cell_type": "markdown",
   "id": "fb28aab1",
   "metadata": {},
   "source": [
    "_Calculem diferents estimadors per a comparar els models_"
   ]
  },
  {
   "cell_type": "code",
   "execution_count": 92,
   "id": "12f05f4c",
   "metadata": {},
   "outputs": [
    {
     "name": "stdout",
     "output_type": "stream",
     "text": [
      "Accuracy: 0.8965764367956166\n"
     ]
    }
   ],
   "source": [
    "print(\"Accuracy:\",metrics.accuracy_score(y, y_clf1_pred))"
   ]
  },
  {
   "cell_type": "code",
   "execution_count": 93,
   "id": "0e5bd0c1",
   "metadata": {},
   "outputs": [
    {
     "name": "stdout",
     "output_type": "stream",
     "text": [
      "Confusion matrix:\n",
      "[[  33041  171915]\n",
      " [  27524 1695891]]\n"
     ]
    }
   ],
   "source": [
    "print(\"Confusion matrix:\")\n",
    "print(metrics.confusion_matrix(y, y_clf1_pred))"
   ]
  },
  {
   "cell_type": "code",
   "execution_count": 94,
   "id": "1ee97326",
   "metadata": {},
   "outputs": [
    {
     "name": "stdout",
     "output_type": "stream",
     "text": [
      "True positives: 1695891\n",
      "True negatives: 33041\n",
      "False Positives: 171915\n",
      "False Negatives: 27524\n"
     ]
    }
   ],
   "source": [
    "conf1 = metrics.confusion_matrix(y, y_clf1_pred)\n",
    "print(\"True positives:\", conf1[1,1])\n",
    "print(\"True negatives:\", conf1[0,0])\n",
    "print(\"False Positives:\", conf1[0,1])\n",
    "print(\"False Negatives:\", conf1[1,0])"
   ]
  },
  {
   "cell_type": "code",
   "execution_count": 95,
   "id": "d0fc3da3",
   "metadata": {},
   "outputs": [
    {
     "name": "stdout",
     "output_type": "stream",
     "text": [
      "Classification Error:\n",
      "0.1034235632043834\n"
     ]
    }
   ],
   "source": [
    "print(\"Classification Error:\")\n",
    "print(1 - metrics.accuracy_score(y, y_clf1_pred))"
   ]
  },
  {
   "cell_type": "code",
   "execution_count": 96,
   "id": "0d7eb523",
   "metadata": {},
   "outputs": [
    {
     "name": "stdout",
     "output_type": "stream",
     "text": [
      "Sensitivity:\n",
      "0.9840293835205102\n"
     ]
    }
   ],
   "source": [
    "print(\"Sensitivity:\")\n",
    "print(metrics.recall_score(y, y_clf1_pred))"
   ]
  },
  {
   "cell_type": "code",
   "execution_count": 97,
   "id": "608d6aad",
   "metadata": {},
   "outputs": [
    {
     "name": "stdout",
     "output_type": "stream",
     "text": [
      "Specificity:\n",
      "0.16121021097211108\n"
     ]
    }
   ],
   "source": [
    "print(\"Specificity:\")\n",
    "print(conf1[0,0]/(conf1[0,0] + conf1[0,1]))"
   ]
  },
  {
   "cell_type": "markdown",
   "id": "862a138b",
   "metadata": {},
   "source": [
    "- Model 2 (LogisticRegression)"
   ]
  },
  {
   "cell_type": "markdown",
   "id": "778e7d54",
   "metadata": {},
   "source": [
    "_Primer de tot, calculem els valors predits_"
   ]
  },
  {
   "cell_type": "code",
   "execution_count": 98,
   "id": "ab7dba68",
   "metadata": {},
   "outputs": [],
   "source": [
    "y_logreg2_pred = logreg2.predict(X2)"
   ]
  },
  {
   "cell_type": "markdown",
   "id": "a985f2e5",
   "metadata": {},
   "source": [
    "_Calculem diferents estimadors per a comparar els models_"
   ]
  },
  {
   "cell_type": "code",
   "execution_count": 99,
   "id": "8c3e6bbc",
   "metadata": {},
   "outputs": [
    {
     "name": "stdout",
     "output_type": "stream",
     "text": [
      "LogReg Model:\n",
      "Accuracy = 0.899\n",
      "Precision = 0.911\n",
      "Specificity = 0.190\n",
      "Sensitivity = 0.983\n",
      "F1-score = 0.945\n"
     ]
    }
   ],
   "source": [
    "report2 = classification_report(y, y_logreg2_pred,digits=3,output_dict = True)\n",
    "\n",
    "print(\"LogReg Model:\")\n",
    "print(\"Accuracy = {0:0.3f}\".format(report2[\"accuracy\"]))\n",
    "print(\"Precision = {0:0.3f}\".format(report2[\"1\"][\"precision\"]))\n",
    "print(\"Specificity = {0:0.3f}\".format(report2[\"0\"][\"recall\"]))\n",
    "print(\"Sensitivity = {0:0.3f}\".format(report2[\"1\"][\"recall\"]))\n",
    "print(\"F1-score = {0:0.3f}\".format(report2[\"1\"][\"f1-score\"]))"
   ]
  },
  {
   "cell_type": "code",
   "execution_count": 100,
   "id": "b8b9c8d5",
   "metadata": {},
   "outputs": [
    {
     "name": "stdout",
     "output_type": "stream",
     "text": [
      "Confusion matrix:\n",
      "[[  38986  165970]\n",
      " [  29541 1693874]]\n"
     ]
    }
   ],
   "source": [
    "print(\"Confusion matrix:\")\n",
    "print(metrics.confusion_matrix(y, y_logreg2_pred))"
   ]
  },
  {
   "cell_type": "code",
   "execution_count": 101,
   "id": "a66c7fbe",
   "metadata": {},
   "outputs": [
    {
     "name": "stdout",
     "output_type": "stream",
     "text": [
      "True positives: 1693874\n",
      "True negatives: 38986\n",
      "False Positives: 165970\n",
      "False Negatives: 29541\n"
     ]
    }
   ],
   "source": [
    "conf2 = metrics.confusion_matrix(y, y_logreg2_pred)\n",
    "print(\"True positives:\", conf2[1,1])\n",
    "print(\"True negatives:\", conf2[0,0])\n",
    "print(\"False Positives:\", conf2[0,1])\n",
    "print(\"False Negatives:\", conf2[1,0])"
   ]
  },
  {
   "cell_type": "code",
   "execution_count": 102,
   "id": "b4ed8406",
   "metadata": {},
   "outputs": [
    {
     "data": {
      "image/png": "[encoded data removed]",
      "text/plain": [
       "<Figure size 720x504 with 1 Axes>"
      ]
     },
     "metadata": {
      "needs_background": "light"
     },
     "output_type": "display_data"
    }
   ],
   "source": [
    "#Plotting the ROC curve\n",
    "\n",
    "#generate predicted probabilites\n",
    "y_logreg2_pred_prob = logreg2.predict_proba(X2)\n",
    "\n",
    "#Generating points to plot on ROC curve (logistic model)\n",
    "fpr_logis, tpr_logis, thresholds_logis = roc_curve(y, y_logreg2_pred_prob[:,1])\n",
    "\n",
    "\n",
    "fig, ax = plt.subplots(figsize = (10,7))\n",
    "#plotting the \"guessing\" model\n",
    "plt.plot([0, 1], [0, 1], 'k--')\n",
    "#plotting the logistic model\n",
    "plt.plot(fpr_logis, tpr_logis)\n",
    "plt.fill_between(fpr_logis, tpr_logis, alpha=0.2, color='b')\n",
    "plt.xlabel('False Positive Rate')\n",
    "plt.ylabel('True Positive Rate')\n",
    "plt.title('ROC curve: AUC={0:0.3f}'.format(roc_auc_score(y,y_logreg2_pred_prob[:,1])))\n",
    "plt.show()"
   ]
  },
  {
   "cell_type": "markdown",
   "id": "3e3f4593",
   "metadata": {},
   "source": [
    "- Model 3 (K-Nearest Neighbors)"
   ]
  },
  {
   "cell_type": "markdown",
   "id": "3c18dcbb",
   "metadata": {},
   "source": [
    "_Primer de tot calculem els valors predits_"
   ]
  },
  {
   "cell_type": "code",
   "execution_count": 103,
   "id": "38d0b89a",
   "metadata": {},
   "outputs": [],
   "source": [
    "y_knn3_pred = knn3.predict(X3)"
   ]
  },
  {
   "cell_type": "markdown",
   "id": "c5b6665c",
   "metadata": {},
   "source": [
    "_Calculem diferents estimadors per a comparar els models_"
   ]
  },
  {
   "cell_type": "code",
   "execution_count": 104,
   "id": "81de9014",
   "metadata": {},
   "outputs": [
    {
     "name": "stdout",
     "output_type": "stream",
     "text": [
      "K-Nearest Neighbors Model:\n",
      "Accuracy = 0.885\n",
      "Precision = 0.913\n",
      "Specificity = 0.224\n",
      "Sensitivity = 0.964\n",
      "F1-score = 0.938\n"
     ]
    }
   ],
   "source": [
    "report3 = classification_report(y, y_knn3_pred,digits=3,output_dict = True)\n",
    "\n",
    "print(\"K-Nearest Neighbors Model:\")\n",
    "print(\"Accuracy = {0:0.3f}\".format(report3[\"accuracy\"]))\n",
    "print(\"Precision = {0:0.3f}\".format(report3[\"1\"][\"precision\"]))\n",
    "print(\"Specificity = {0:0.3f}\".format(report3[\"0\"][\"recall\"]))\n",
    "print(\"Sensitivity = {0:0.3f}\".format(report3[\"1\"][\"recall\"]))\n",
    "print(\"F1-score = {0:0.3f}\".format(report3[\"1\"][\"f1-score\"]))"
   ]
  },
  {
   "cell_type": "code",
   "execution_count": 105,
   "id": "37e4eee0",
   "metadata": {},
   "outputs": [
    {
     "name": "stdout",
     "output_type": "stream",
     "text": [
      "Confusion matrix:\n",
      "[[  45882  159074]\n",
      " [  62172 1661243]]\n"
     ]
    }
   ],
   "source": [
    "print(\"Confusion matrix:\")\n",
    "print(metrics.confusion_matrix(y, y_knn3_pred))"
   ]
  },
  {
   "cell_type": "code",
   "execution_count": 106,
   "id": "a5826b34",
   "metadata": {},
   "outputs": [
    {
     "name": "stdout",
     "output_type": "stream",
     "text": [
      "True positives: 1661243\n",
      "True negatives: 45882\n",
      "False Positives: 159074\n",
      "False Negatives: 62172\n"
     ]
    }
   ],
   "source": [
    "conf3 = metrics.confusion_matrix(y, y_knn3_pred)\n",
    "print(\"True positives:\", conf3[1,1])\n",
    "print(\"True negatives:\", conf3[0,0])\n",
    "print(\"False Positives:\", conf3[0,1])\n",
    "print(\"False Negatives:\", conf3[1,0])"
   ]
  },
  {
   "cell_type": "markdown",
   "id": "f3591240",
   "metadata": {},
   "source": [
    "_Tots tres models tenen una **accuracy** (% prediccions correctes) i una **sensivility** (probabilitat de classificar correctament els vols retrassats) molt alta, en canvi una **specificity** (probabilitat de classificar correctament a un vol no retrassat) molt baixa. Quan en realitat ens interessaria tenir aquests tres paràmetres el més alts possibles_\n",
    "\n",
    "_Dels tres models, i fixant-nos en els valors de **accuracy** i **sensivility**, escolliriem el model 2 de regressió logística, donat que té els valors més alts_"
   ]
  },
  {
   "cell_type": "markdown",
   "id": "de76a028",
   "metadata": {},
   "source": [
    "## Nivell 1 - Exercici 3\n",
    "Entrena’ls utilitzant els diferents paràmetres que admeten."
   ]
  },
  {
   "cell_type": "markdown",
   "id": "4956be01",
   "metadata": {},
   "source": [
    "_Dividim els conjunts de dades en Train i Test, farem que Train tingui el 67% de les observacions i Test el 33% restant, amb la instrucció shape ho revisarem_"
   ]
  },
  {
   "cell_type": "code",
   "execution_count": 107,
   "id": "f8b7d073",
   "metadata": {},
   "outputs": [
    {
     "name": "stdout",
     "output_type": "stream",
     "text": [
      "(1292008, 26) (636363, 26) (1292008,) (636363,)\n"
     ]
    }
   ],
   "source": [
    "X_train, X_test, y_train, y_test = train_test_split(X, y, test_size=0.33, random_state=1)\n",
    "print(X_train.shape, X_test.shape, y_train.shape, y_test.shape)"
   ]
  },
  {
   "cell_type": "markdown",
   "id": "7a0a63d4",
   "metadata": {},
   "source": [
    "_Entrenem els models_\n",
    "\n",
    "- Model 1 (DecisionTreeClassifier)"
   ]
  },
  {
   "cell_type": "code",
   "execution_count": 108,
   "id": "4d881736",
   "metadata": {},
   "outputs": [],
   "source": [
    "X_train1 = X_train[['DepDelay', 'TaxiOut']]"
   ]
  },
  {
   "cell_type": "code",
   "execution_count": 109,
   "id": "b9846d08",
   "metadata": {},
   "outputs": [],
   "source": [
    "clf_train1 = DecisionTreeClassifier()\n",
    "clf_train1 = clf_train1.fit(X_train1,y_train)"
   ]
  },
  {
   "cell_type": "markdown",
   "id": "1af69870",
   "metadata": {},
   "source": [
    "- Model 2 (LogisticRegression)"
   ]
  },
  {
   "cell_type": "code",
   "execution_count": 110,
   "id": "d635b751",
   "metadata": {},
   "outputs": [],
   "source": [
    "X_train2 = X_train[['DepDelay','TaxiOut','Distance']]"
   ]
  },
  {
   "cell_type": "code",
   "execution_count": 111,
   "id": "ba689e10",
   "metadata": {},
   "outputs": [
    {
     "data": {
      "text/plain": [
       "LogisticRegression()"
      ]
     },
     "execution_count": 111,
     "metadata": {},
     "output_type": "execute_result"
    }
   ],
   "source": [
    "logreg_train2 = LogisticRegression()\n",
    "logreg_train2.fit(X_train2, y_train)"
   ]
  },
  {
   "cell_type": "markdown",
   "id": "1701b9f7",
   "metadata": {},
   "source": [
    "- Model 3 (K-Nearest Neighbors)"
   ]
  },
  {
   "cell_type": "code",
   "execution_count": 112,
   "id": "ebb947f3",
   "metadata": {},
   "outputs": [],
   "source": [
    "X_train3 = X_train[['DepDelay', 'TaxiOut']]\n",
    "\n",
    "scaler = StandardScaler()\n",
    "scaler.fit(X_train3)\n",
    "\n",
    "X_train3 = scaler.transform(X_train3)"
   ]
  },
  {
   "cell_type": "code",
   "execution_count": 113,
   "id": "7f7ac376",
   "metadata": {},
   "outputs": [
    {
     "data": {
      "text/plain": [
       "KNeighborsClassifier()"
      ]
     },
     "execution_count": 113,
     "metadata": {},
     "output_type": "execute_result"
    }
   ],
   "source": [
    "knn_train3 = KNeighborsClassifier(n_neighbors=5)\n",
    "knn_train3.fit(X_train3, y_train)"
   ]
  },
  {
   "cell_type": "markdown",
   "id": "e272424f",
   "metadata": {},
   "source": [
    "## Nivell 1 - Exercici 4\n",
    "Compara el seu rendiment utilitzant l’aproximació traint/test o cross-validation."
   ]
  },
  {
   "cell_type": "markdown",
   "id": "fb9883ec",
   "metadata": {},
   "source": [
    "- Model 1 (DecisionTreeClassifier)"
   ]
  },
  {
   "cell_type": "code",
   "execution_count": 114,
   "id": "48adde1f",
   "metadata": {},
   "outputs": [],
   "source": [
    "X_test1 = X_test[['DepDelay', 'TaxiOut']]"
   ]
  },
  {
   "cell_type": "code",
   "execution_count": 115,
   "id": "b87bf039",
   "metadata": {},
   "outputs": [],
   "source": [
    "y_clf_train1_pred = clf_train1.predict(X_test1)"
   ]
  },
  {
   "cell_type": "code",
   "execution_count": 116,
   "id": "ff3d2855",
   "metadata": {},
   "outputs": [
    {
     "name": "stdout",
     "output_type": "stream",
     "text": [
      "Decision TreeClassifier Model:\n",
      "Accuracy = 0.897\n",
      "Precision = 0.907\n",
      "Specificity = 0.156\n",
      "Sensitivity = 0.985\n",
      "F1-score = 0.944\n"
     ]
    }
   ],
   "source": [
    "report1t = classification_report(y_test, y_clf_train1_pred,digits=3,output_dict = True)\n",
    "\n",
    "print(\"Decision TreeClassifier Model:\")\n",
    "print(\"Accuracy = {0:0.3f}\".format(report1t[\"accuracy\"]))\n",
    "print(\"Precision = {0:0.3f}\".format(report1t[\"1\"][\"precision\"]))\n",
    "print(\"Specificity = {0:0.3f}\".format(report1t[\"0\"][\"recall\"]))\n",
    "print(\"Sensitivity = {0:0.3f}\".format(report1t[\"1\"][\"recall\"]))\n",
    "print(\"F1-score = {0:0.3f}\".format(report1t[\"1\"][\"f1-score\"]))"
   ]
  },
  {
   "cell_type": "code",
   "execution_count": 117,
   "id": "9ebb66ad",
   "metadata": {},
   "outputs": [
    {
     "name": "stdout",
     "output_type": "stream",
     "text": [
      "Confusion matrix:\n",
      "[[ 10564  57098]\n",
      " [  8730 559971]]\n"
     ]
    }
   ],
   "source": [
    "print(\"Confusion matrix:\")\n",
    "print(metrics.confusion_matrix(y_test, y_clf_train1_pred))"
   ]
  },
  {
   "cell_type": "markdown",
   "id": "e5812bdb",
   "metadata": {},
   "source": [
    "- Model 2 (LogisticRegression)"
   ]
  },
  {
   "cell_type": "code",
   "execution_count": 118,
   "id": "83149359",
   "metadata": {},
   "outputs": [],
   "source": [
    "X_test2 = X_test[['DepDelay','TaxiOut','Distance']]"
   ]
  },
  {
   "cell_type": "code",
   "execution_count": 119,
   "id": "4adae7bc",
   "metadata": {},
   "outputs": [],
   "source": [
    "y_logreg_train2_pred = logreg_train2.predict(X_test2)"
   ]
  },
  {
   "cell_type": "code",
   "execution_count": 120,
   "id": "4e2f5a07",
   "metadata": {},
   "outputs": [
    {
     "name": "stdout",
     "output_type": "stream",
     "text": [
      "Logistic Regression Model:\n",
      "Accuracy = 0.898\n",
      "Precision = 0.911\n",
      "Specificity = 0.190\n",
      "Sensitivity = 0.983\n",
      "F1-score = 0.945\n"
     ]
    }
   ],
   "source": [
    "report2t = classification_report(y_test, y_logreg_train2_pred,digits=3,output_dict = True)\n",
    "\n",
    "print(\"Logistic Regression Model:\")\n",
    "print(\"Accuracy = {0:0.3f}\".format(report2t[\"accuracy\"]))\n",
    "print(\"Precision = {0:0.3f}\".format(report2t[\"1\"][\"precision\"]))\n",
    "print(\"Specificity = {0:0.3f}\".format(report2t[\"0\"][\"recall\"]))\n",
    "print(\"Sensitivity = {0:0.3f}\".format(report2t[\"1\"][\"recall\"]))\n",
    "print(\"F1-score = {0:0.3f}\".format(report2t[\"1\"][\"f1-score\"]))"
   ]
  },
  {
   "cell_type": "code",
   "execution_count": 121,
   "id": "1c248dba",
   "metadata": {},
   "outputs": [
    {
     "name": "stdout",
     "output_type": "stream",
     "text": [
      "Confusion matrix:\n",
      "[[ 12830  54832]\n",
      " [  9783 558918]]\n"
     ]
    }
   ],
   "source": [
    "print(\"Confusion matrix:\")\n",
    "print(metrics.confusion_matrix(y_test, y_logreg_train2_pred))"
   ]
  },
  {
   "cell_type": "markdown",
   "id": "76c45b7e",
   "metadata": {},
   "source": [
    "- Model 3 (K-Nearest Neighbors)"
   ]
  },
  {
   "cell_type": "code",
   "execution_count": 122,
   "id": "27b6b108",
   "metadata": {},
   "outputs": [],
   "source": [
    "X_test3 = X_test[['DepDelay', 'TaxiOut']]\n",
    "\n",
    "scaler = StandardScaler()\n",
    "scaler.fit(X_test3)\n",
    "\n",
    "X_test3 = scaler.transform(X_test3)"
   ]
  },
  {
   "cell_type": "code",
   "execution_count": 123,
   "id": "8280fb58",
   "metadata": {},
   "outputs": [],
   "source": [
    "y_knn_train3_pred = knn_train3.predict(X_test3)"
   ]
  },
  {
   "cell_type": "code",
   "execution_count": 124,
   "id": "2dccbe13",
   "metadata": {},
   "outputs": [
    {
     "name": "stdout",
     "output_type": "stream",
     "text": [
      "Logistic Regression Model:\n",
      "Accuracy = 0.883\n",
      "Precision = 0.914\n",
      "Specificity = 0.243\n",
      "Sensitivity = 0.960\n",
      "F1-score = 0.936\n"
     ]
    }
   ],
   "source": [
    "report3t = classification_report(y_test, y_knn_train3_pred,digits=3,output_dict = True)\n",
    "\n",
    "print(\"Logistic Regression Model:\")\n",
    "print(\"Accuracy = {0:0.3f}\".format(report3t[\"accuracy\"]))\n",
    "print(\"Precision = {0:0.3f}\".format(report3t[\"1\"][\"precision\"]))\n",
    "print(\"Specificity = {0:0.3f}\".format(report3t[\"0\"][\"recall\"]))\n",
    "print(\"Sensitivity = {0:0.3f}\".format(report3t[\"1\"][\"recall\"]))\n",
    "print(\"F1-score = {0:0.3f}\".format(report3t[\"1\"][\"f1-score\"]))"
   ]
  },
  {
   "cell_type": "code",
   "execution_count": 125,
   "id": "a618ed85",
   "metadata": {},
   "outputs": [
    {
     "name": "stdout",
     "output_type": "stream",
     "text": [
      "Confusion matrix:\n",
      "[[ 16456  51206]\n",
      " [ 22972 545729]]\n"
     ]
    }
   ],
   "source": [
    "print(\"Confusion matrix:\")\n",
    "print(metrics.confusion_matrix(y_test, y_knn_train3_pred))"
   ]
  },
  {
   "cell_type": "markdown",
   "id": "71b55917",
   "metadata": {},
   "source": [
    "## Nivell 2 - Exercici 5\n",
    "Realitza algun procés d’enginyeria de variables per millorar-ne la predicció"
   ]
  },
  {
   "cell_type": "markdown",
   "id": "d2a7eaa5",
   "metadata": {},
   "source": [
    "_Partim del model 2 vist anteriorment i afegim una variable dummy que indica si la companyia era WN o no._"
   ]
  },
  {
   "cell_type": "code",
   "execution_count": 127,
   "id": "7d252176",
   "metadata": {},
   "outputs": [],
   "source": [
    "X_train5 = X_train[['DepDelay','TaxiOut','Distance','CarrierWN']]"
   ]
  },
  {
   "cell_type": "markdown",
   "id": "cfe4302d",
   "metadata": {},
   "source": [
    "_Ajustem el model:_"
   ]
  },
  {
   "cell_type": "code",
   "execution_count": 128,
   "id": "fac61c76",
   "metadata": {},
   "outputs": [
    {
     "data": {
      "text/plain": [
       "LogisticRegression()"
      ]
     },
     "execution_count": 128,
     "metadata": {},
     "output_type": "execute_result"
    }
   ],
   "source": [
    "logreg_train5 = LogisticRegression()\n",
    "logreg_train5.fit(X_train5, y_train)"
   ]
  },
  {
   "cell_type": "markdown",
   "id": "e2561d18",
   "metadata": {},
   "source": [
    "_Calculem els valors predits:_"
   ]
  },
  {
   "cell_type": "code",
   "execution_count": 129,
   "id": "9374bba1",
   "metadata": {},
   "outputs": [],
   "source": [
    "X_test5 = X_test[['DepDelay','TaxiOut','Distance','CarrierWN']]"
   ]
  },
  {
   "cell_type": "code",
   "execution_count": 130,
   "id": "dc6c9d0b",
   "metadata": {},
   "outputs": [],
   "source": [
    "y_logreg_train5_pred = logreg_train5.predict(X_test5)"
   ]
  },
  {
   "cell_type": "markdown",
   "id": "f0bc400a",
   "metadata": {},
   "source": [
    "_Avaluem el model:_"
   ]
  },
  {
   "cell_type": "code",
   "execution_count": 131,
   "id": "58facca9",
   "metadata": {},
   "outputs": [
    {
     "name": "stdout",
     "output_type": "stream",
     "text": [
      "Logistic Regression Model:\n",
      "Accuracy = 0.898\n",
      "Precision = 0.911\n",
      "Specificity = 0.189\n",
      "Sensitivity = 0.982\n",
      "F1-score = 0.945\n"
     ]
    }
   ],
   "source": [
    "report5t = classification_report(y_test, y_logreg_train5_pred,digits=3,output_dict = True)\n",
    "\n",
    "print(\"Logistic Regression Model:\")\n",
    "print(\"Accuracy = {0:0.3f}\".format(report5t[\"accuracy\"]))\n",
    "print(\"Precision = {0:0.3f}\".format(report5t[\"1\"][\"precision\"]))\n",
    "print(\"Specificity = {0:0.3f}\".format(report5t[\"0\"][\"recall\"]))\n",
    "print(\"Sensitivity = {0:0.3f}\".format(report5t[\"1\"][\"recall\"]))\n",
    "print(\"F1-score = {0:0.3f}\".format(report5t[\"1\"][\"f1-score\"]))"
   ]
  },
  {
   "cell_type": "code",
   "execution_count": 132,
   "id": "55302d8d",
   "metadata": {},
   "outputs": [
    {
     "name": "stdout",
     "output_type": "stream",
     "text": [
      "Confusion matrix:\n",
      "[[ 12801  54861]\n",
      " [ 10006 558695]]\n"
     ]
    }
   ],
   "source": [
    "print(\"Confusion matrix:\")\n",
    "print(metrics.confusion_matrix(y_test, y_logreg_train5_pred))"
   ]
  },
  {
   "cell_type": "markdown",
   "id": "be9eb8e3",
   "metadata": {},
   "source": [
    "_Al afegir la variable dummy **CarrierWN** no es que haguem millorat el model. De la mateixa manera que al afegir transformacions de les variables, com el logaritme de la variable TaxiOut (variable transformada al logaritme per la relació que presentava la variable amb ArrDelay)_"
   ]
  },
  {
   "cell_type": "markdown",
   "id": "18b6609b",
   "metadata": {},
   "source": [
    "## Nivell 3 - Exercici 6\n",
    "No utilitzis la variable DepDelay a l’hora de fer prediccions"
   ]
  },
  {
   "cell_type": "markdown",
   "id": "55933ff8",
   "metadata": {},
   "source": [
    "_Ja haviem vist la forta relació lineal entre les variables ArrDelay i DepDelay. Anem a veure la correlació entre les variables numèriques del nostre conjunt de dades. On inclourem la variable creada com la suma dels minuts per tipus de retràs (**SumDelay**)_"
   ]
  },
  {
   "cell_type": "code",
   "execution_count": 134,
   "id": "b1d6c631",
   "metadata": {},
   "outputs": [],
   "source": [
    "dfNUM = df2.loc[:,['ArrDelay','ActualElapsedTime','CRSElapsedTime','AirTime','DepDelay','Distance','TaxiIn','TaxiOut','SumDelay']]"
   ]
  },
  {
   "cell_type": "code",
   "execution_count": 135,
   "id": "b6a4f3ae",
   "metadata": {},
   "outputs": [
    {
     "name": "stdout",
     "output_type": "stream",
     "text": [
      "                   ArrDelay  ActualElapsedTime  CRSElapsedTime   AirTime  \\\n",
      "ArrDelay           1.000000           0.068130       -0.015676 -0.000189   \n",
      "ActualElapsedTime  0.068130           1.000000        0.971122  0.976660   \n",
      "CRSElapsedTime    -0.015676           0.971122        1.000000  0.986086   \n",
      "AirTime           -0.000189           0.976660        0.986086  1.000000   \n",
      "DepDelay           0.952927           0.018492        0.006835 -0.002753   \n",
      "Distance          -0.029853           0.952980        0.981967  0.980294   \n",
      "TaxiIn             0.156277           0.166348        0.099693  0.083926   \n",
      "TaxiOut            0.286484           0.289568        0.123454  0.090398   \n",
      "SumDelay           0.996307           0.077939       -0.003269  0.009790   \n",
      "\n",
      "                   DepDelay  Distance    TaxiIn   TaxiOut  SumDelay  \n",
      "ArrDelay           0.952927 -0.029853  0.156277  0.286484  0.996307  \n",
      "ActualElapsedTime  0.018492  0.952980  0.166348  0.289568  0.077939  \n",
      "CRSElapsedTime     0.006835  0.981967  0.099693  0.123454 -0.003269  \n",
      "AirTime           -0.002753  0.980294  0.083926  0.090398  0.009790  \n",
      "DepDelay           1.000000 -0.007850  0.074880  0.078769  0.952311  \n",
      "Distance          -0.007850  1.000000  0.072281  0.069965 -0.019033  \n",
      "TaxiIn             0.074880  0.072281  1.000000  0.066961  0.156804  \n",
      "TaxiOut            0.078769  0.069965  0.066961  1.000000  0.287820  \n",
      "SumDelay           0.952311 -0.019033  0.156804  0.287820  1.000000  \n"
     ]
    }
   ],
   "source": [
    "corrMatrix = dfNUM.corr()\n",
    "print (corrMatrix)"
   ]
  },
  {
   "cell_type": "markdown",
   "id": "69c86ba4",
   "metadata": {},
   "source": [
    "_La variable creada **SumDelay** està fortament correlacionada amb la variable **ArrDelay** i **DepDelay**. Ajustarem el mateix model de l'exercici 5, però en lloc de fer servir la variable **DepDelay** farem servir la variable **SumDelay**_"
   ]
  },
  {
   "cell_type": "code",
   "execution_count": 136,
   "id": "9c86cfe3",
   "metadata": {},
   "outputs": [],
   "source": [
    "X_train6 = X_train[['SumDelay','TaxiOut','Distance','CarrierWN']]"
   ]
  },
  {
   "cell_type": "markdown",
   "id": "5f7def95",
   "metadata": {},
   "source": [
    "_Ajustem el model:_"
   ]
  },
  {
   "cell_type": "code",
   "execution_count": 137,
   "id": "95c21777",
   "metadata": {},
   "outputs": [
    {
     "data": {
      "text/plain": [
       "LogisticRegression()"
      ]
     },
     "execution_count": 137,
     "metadata": {},
     "output_type": "execute_result"
    }
   ],
   "source": [
    "logreg_train6 = LogisticRegression()\n",
    "logreg_train6.fit(X_train6, y_train)"
   ]
  },
  {
   "cell_type": "markdown",
   "id": "21d0c10b",
   "metadata": {},
   "source": [
    "_Calculem els valors predits:_"
   ]
  },
  {
   "cell_type": "code",
   "execution_count": 138,
   "id": "bdd2eec0",
   "metadata": {},
   "outputs": [],
   "source": [
    "X_test6 = X_test[['SumDelay','TaxiOut','Distance','CarrierWN']]"
   ]
  },
  {
   "cell_type": "code",
   "execution_count": 139,
   "id": "f57f9cd8",
   "metadata": {},
   "outputs": [],
   "source": [
    "y_logreg_train6_pred = logreg_train6.predict(X_test6)"
   ]
  },
  {
   "cell_type": "markdown",
   "id": "4a7eca24",
   "metadata": {},
   "source": [
    "_Avaluem el model:_"
   ]
  },
  {
   "cell_type": "code",
   "execution_count": 140,
   "id": "2b235fbf",
   "metadata": {},
   "outputs": [
    {
     "name": "stdout",
     "output_type": "stream",
     "text": [
      "Logistic Regression Model:\n",
      "Accuracy = 0.894\n",
      "Precision = 0.903\n",
      "Specificity = 0.103\n",
      "Sensitivity = 0.989\n",
      "F1-score = 0.944\n"
     ]
    }
   ],
   "source": [
    "report6t = classification_report(y_test, y_logreg_train6_pred,digits=3,output_dict = True)\n",
    "\n",
    "print(\"Logistic Regression Model:\")\n",
    "print(\"Accuracy = {0:0.3f}\".format(report6t[\"accuracy\"]))\n",
    "print(\"Precision = {0:0.3f}\".format(report6t[\"1\"][\"precision\"]))\n",
    "print(\"Specificity = {0:0.3f}\".format(report6t[\"0\"][\"recall\"]))\n",
    "print(\"Sensitivity = {0:0.3f}\".format(report6t[\"1\"][\"recall\"]))\n",
    "print(\"F1-score = {0:0.3f}\".format(report6t[\"1\"][\"f1-score\"]))"
   ]
  },
  {
   "cell_type": "code",
   "execution_count": 141,
   "id": "27b124e2",
   "metadata": {},
   "outputs": [
    {
     "name": "stdout",
     "output_type": "stream",
     "text": [
      "Confusion matrix:\n",
      "[[  6993  60669]\n",
      " [  6512 562189]]\n"
     ]
    }
   ],
   "source": [
    "print(\"Confusion matrix:\")\n",
    "print(metrics.confusion_matrix(y_test, y_logreg_train6_pred))"
   ]
  },
  {
   "cell_type": "markdown",
   "id": "d4bf145d",
   "metadata": {},
   "source": [
    "_Utilitzant la variable **SumDelay** enlloc de la variable **DepDelay**, obtenim un bon model. Ara bé, discutible que sigui millor que l'anterior, donat que Sensivility ha augmentat lleugerament i la Accuracy ha disminuit una mica_"
   ]
  },
  {
   "cell_type": "code",
   "execution_count": null,
   "id": "35445d42",
   "metadata": {},
   "outputs": [],
   "source": []
  }
 ],
 "metadata": {
  "kernelspec": {
   "display_name": "Python 3",
   "language": "python",
   "name": "python3"
  },
  "language_info": {
   "codemirror_mode": {
    "name": "ipython",
    "version": 3
   },
   "file_extension": ".py",
   "mimetype": "text/x-python",
   "name": "python",
   "nbconvert_exporter": "python",
   "pygments_lexer": "ipython3",
   "version": "3.8.8"
  }
 },
 "nbformat": 4,
 "nbformat_minor": 5
}
